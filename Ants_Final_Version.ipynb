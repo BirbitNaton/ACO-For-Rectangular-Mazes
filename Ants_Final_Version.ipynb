{
 "cells": [
  {
   "cell_type": "code",
   "execution_count": 42,
   "metadata": {
    "collapsed": true
   },
   "outputs": [],
   "source": [
    "import numpy as np\n",
    "import random as rnd\n",
    "from tqdm import tqdm\n",
    "import sys\n",
    "\n",
    "rnd.seed(42)"
   ]
  },
  {
   "cell_type": "code",
   "execution_count": 43,
   "outputs": [],
   "source": [
    "class Maze:\n",
    "\n",
    "    matrix = np.array\n",
    "    connectivity = int\n",
    "    width = int\n",
    "    height = int\n",
    "\n",
    "    def __init__(self, path):\n",
    "        import numpy as np\n",
    "        import random as rnd\n",
    "        rnd.seed(42)\n",
    "\n",
    "        with open(path, 'r') as maze:\n",
    "            maze = [int(x) for x in maze.readline().split()]\n",
    "        width, height = maze[0:2]\n",
    "        connectivity = maze[2]\n",
    "        maze = maze[3:]\n",
    "        matrix = []\n",
    "\n",
    "        for y in range(height):\n",
    "            matrix.append(maze[0 + height*y : width + height*y])\n",
    "\n",
    "        self.matrix = np.array(matrix)\n",
    "        self.width, self.height, self.connectivity, self.shape = \\\n",
    "            width, height, connectivity, (width, height) #NOTE: np.array.shape is (height, width), don't confuse those, although doesn't matter for square labyrinths\n",
    "\n",
    "        self.target_loc = np.unravel_index(np.argmax(self.matrix, axis=None), self.matrix.shape)\n",
    "\n",
    "\n",
    "    def up_frame(self, cell_code: int):\n",
    "        return cell_code//1%2==1\n",
    "\n",
    "    def right_frame(self, cell_code: int):\n",
    "        return cell_code//2%2==1\n",
    "\n",
    "    def bottom_frame(self, cell_code: int):\n",
    "        return cell_code//4%2==1\n",
    "\n",
    "    def left_frame(self, cell_code: int):\n",
    "        return cell_code//8%2==1\n",
    "\n",
    "\n",
    "    def up_frame_coords(self, coordinates: tuple[int, int]):\n",
    "        x, y = coordinates\n",
    "        cell_code = self.matrix[x][y]\n",
    "        return cell_code//1%2==1\n",
    "\n",
    "    def right_frame_coords(self, coordinates: tuple[int, int]):\n",
    "        x, y = coordinates\n",
    "        cell_code = self.matrix[x][y]\n",
    "        return cell_code//2%2==1\n",
    "\n",
    "    def bottom_frame_coords(self, coordinates: tuple[int, int]):\n",
    "        x, y = coordinates\n",
    "        cell_code = self.matrix[x][y]\n",
    "        return cell_code//4%2==1\n",
    "\n",
    "    def left_frame_coords(self, coordinates: tuple[int, int]):\n",
    "        x, y = coordinates\n",
    "        cell_code = self.matrix[x][y]\n",
    "        return cell_code//8%2==1"
   ],
   "metadata": {
    "collapsed": false
   }
  },
  {
   "cell_type": "code",
   "execution_count": 44,
   "outputs": [],
   "source": [
    "class Ant:\n",
    "\n",
    "    def __init__(self, x:int, y:int):\n",
    "        self.position_init = (x, y)\n",
    "        self.position = (x, y)\n",
    "        self.route = [self.position_init]\n",
    "\n",
    "    def reset(self):\n",
    "        self.position = self.position_init\n",
    "        self.route = [self.position_init]"
   ],
   "metadata": {
    "collapsed": false
   }
  },
  {
   "cell_type": "code",
   "execution_count": 45,
   "outputs": [],
   "source": [
    "class ACO:\n",
    "\n",
    "    def __init__(self, maze:Maze, ant_num:int = None, evaporation_rate:float = 0.1,\n",
    "                 criterion:str = \"max_iter\", route_param_limit:int = 15, max_iter:int = 1000,\n",
    "                 exploitation_const:float = 1.0, trace_log_base:float = 1):\n",
    "        self.maze = maze\n",
    "        self.evaporation_rate = evaporation_rate\n",
    "        self.criterion = criterion\n",
    "        self.route_param_limit = route_param_limit\n",
    "        self.max_iter = max_iter\n",
    "        self.exploitation_const = exploitation_const\n",
    "        self.trace_log_base = trace_log_base\n",
    "\n",
    "        if ant_num is None:\n",
    "            ant_num = maze.width*maze.height\n",
    "        self.ant_num = ant_num\n",
    "        ant_positions = rnd.sample([(x, y) for x in range(maze.width) for y in range(maze.height)], k=self.ant_num)\n",
    "        self.ants = [Ant(pos[0], pos[1]) for pos in ant_positions]\n",
    "\n",
    "        self.temp_trace_map = np.array([[0.0]*maze.width]*maze.height)\n",
    "        self.trace_map = np.array([[1.0]*maze.width]*maze.height)\n",
    "\n",
    "        self.depth = 0\n",
    "        self.came2target = 0\n",
    "\n",
    "    def clear_traces(self):\n",
    "        self.temp_trace_map = np.array([[0.0]*self.maze.width]*self.maze.height)\n",
    "\n",
    "    def move(self, ant:Ant, exploiting:bool = False):\n",
    "        self.exploitation_const = 1\n",
    "        x, y = ant.position\n",
    "        if ant.position == self.maze.target_loc:\n",
    "            return ant.position\n",
    "\n",
    "        ways = [(x+1, y),\n",
    "                (x-1, y),\n",
    "                (x, y+1),\n",
    "                (x, y-1)]\n",
    "        checks = [self.maze.bottom_frame_coords,\n",
    "                  self.maze.up_frame_coords,\n",
    "                  self.maze.right_frame_coords,\n",
    "                  self.maze.left_frame_coords]\n",
    "\n",
    "        ways = [ways[i] for i in range(len(ways)) if not (checks[i](ant.position) or ways[i] in ant.route)]\n",
    "\n",
    "        if len(ways) == 0:\n",
    "            return None\n",
    "\n",
    "        if self.maze.target_loc in ways:\n",
    "            final_way = self.maze.target_loc\n",
    "            self.came2target += 1\n",
    "        else:\n",
    "            weights = [self.trace_map[way]**self.exploitation_const for way in ways]\n",
    "            # print(weights)\n",
    "            final_way = rnd.choices(population=ways, weights=weights, k=1)[0]\n",
    "            if exploiting:\n",
    "                final_way = ways[np.argmax(weights)]\n",
    "\n",
    "        ant.position = final_way\n",
    "        ant.route.append(final_way)\n",
    "        return ant.position\n",
    "\n",
    "    def fit(self):\n",
    "        for _ in tqdm(range(self.max_iter)):\n",
    "            if sum([int(aco.get_route((x, y))[2])\n",
    "                    for x in range(aco.maze.width)\n",
    "                    for y in range(aco.maze.height)])\\\n",
    "                    /(self.maze.height * aco.maze.width) == 1 and self.criterion == \"connectivity\":\n",
    "                break\n",
    "            if self.criterion == \"avg_route\" and sum([int(aco.get_route((x, y))[1])\n",
    "                                                      for x in range(aco.maze.width)\n",
    "                                                      for y in range(aco.maze.height)])\\\n",
    "                    /(self.maze.height * aco.maze.width) == 1:\n",
    "                break\n",
    "            if self.criterion == \"max_route\" and self.depth < self.route_param_limit:\n",
    "                break\n",
    "            if min([int(aco.get_route((x, y))[1])\n",
    "                    for x in range(aco.maze.width)\n",
    "                    for y in range(aco.maze.height)]) == 1 < self.route_param_limit and self.criterion == \"min_route\":\n",
    "                break\n",
    "\n",
    "            for ant in self.ants:\n",
    "                self.trace_log_base = 0.1\n",
    "                while self.move(ant) not in [None, self.maze.target_loc]:\n",
    "                    continue\n",
    "                route = ant.route\n",
    "                n = len(route)\n",
    "\n",
    "                if self.depth<n:\n",
    "                    self.depth = n\n",
    "\n",
    "                if self.maze.target_loc in route:\n",
    "                    self.trace_log_base *= 1000.0\n",
    "\n",
    "                for point in route:\n",
    "                    self.temp_trace_map[point] += (self.trace_log_base**2)/n\n",
    "                ant.reset()\n",
    "\n",
    "            self.trace_map = self.trace_map + self.temp_trace_map\n",
    "            self.clear_traces()\n",
    "            self.trace_map = self.trace_map * (1-self.evaporation_rate)\n",
    "\n",
    "        self.trace_map = (self.trace_map - np.min(self.trace_map))/np.max(self.trace_map)\n",
    "        self.trace_map[self.trace_map == 0] = sys.float_info.min\n",
    "        return self.trace_map\n",
    "\n",
    "    def get_route(self, coordinates: tuple[int, int]):\n",
    "        x, y = coordinates\n",
    "        explorer_ant = Ant(x, y)\n",
    "\n",
    "        while self.move(explorer_ant, exploiting=True) not in [None, self.maze.target_loc]:\n",
    "            continue\n",
    "        return explorer_ant.route, len(explorer_ant.route), explorer_ant.position==self.maze.target_loc, self.depth"
   ],
   "metadata": {
    "collapsed": false
   }
  },
  {
   "cell_type": "code",
   "execution_count": 67,
   "outputs": [
    {
     "name": "stderr",
     "output_type": "stream",
     "text": [
      "100%|██████████| 20/20 [00:03<00:00,  6.61it/s]\n"
     ]
    }
   ],
   "source": [
    "M = Maze(\"mazes/M25_1.mz\")\n",
    "aco = ACO(M, criterion=\"max_iter\", max_iter=20, ant_num=130)\n",
    "\n",
    "trace_map = aco.fit()"
   ],
   "metadata": {
    "collapsed": false
   }
  },
  {
   "cell_type": "code",
   "execution_count": 68,
   "outputs": [
    {
     "data": {
      "text/plain": "0.9911111111111112"
     },
     "execution_count": 68,
     "metadata": {},
     "output_type": "execute_result"
    }
   ],
   "source": [
    "sum([int(aco.get_route((x, y))[2]) for x in range(aco.maze.width) for y in range(aco.maze.height)])/225"
   ],
   "metadata": {
    "collapsed": false
   }
  },
  {
   "cell_type": "code",
   "execution_count": 69,
   "outputs": [
    {
     "data": {
      "text/plain": "225"
     },
     "execution_count": 69,
     "metadata": {},
     "output_type": "execute_result"
    }
   ],
   "source": [
    "np.count_nonzero(trace_map)"
   ],
   "metadata": {
    "collapsed": false
   }
  },
  {
   "cell_type": "code",
   "execution_count": 40,
   "outputs": [
    {
     "data": {
      "text/plain": "array([[0.00000000e+00, 6.07731368e-03, 5.75586258e-03, 2.43861942e-03,\n        1.31934748e-11, 1.04788342e-02, 1.19622021e-02, 1.03248452e-03,\n        2.03610876e-03, 2.03610853e-03, 2.03610853e-03, 4.21275670e-03,\n        4.21275658e-03, 4.76569712e-03, 2.78772465e-03],\n       [0.00000000e+00, 1.05938481e-02, 1.01278857e-02, 1.21078223e-02,\n        1.10072911e-02, 1.26939387e-02, 1.09622629e-02, 1.38483854e-02,\n        2.10336685e-03, 1.45682612e-03, 2.63510557e-03, 3.84630813e-03,\n        3.61033288e-03, 6.73940254e-03, 2.23478428e-03],\n       [6.79406806e-03, 8.42225826e-03, 1.70482263e-10, 3.14768120e-03,\n        1.80326290e-02, 1.90872406e-02, 2.22969571e-03, 2.11922863e-02,\n        2.10863608e-02, 1.73352109e-02, 1.60019812e-02, 1.80595651e-02,\n        3.61033282e-03, 7.48746729e-03, 2.12717463e-10],\n       [7.51361108e-03, 6.58417316e-03, 3.65596787e-10, 1.08065436e-10,\n        3.21796967e-02, 3.20375152e-02, 2.48789906e-02, 2.43062452e-02,\n        2.31925981e-02, 1.60968097e-02, 1.25333726e-03, 2.95721617e-02,\n        1.52444017e-02, 1.45164530e-02, 6.45622834e-03],\n       [9.09204591e-03, 6.42892928e-03, 5.64299291e-04, 2.37207267e-03,\n        2.18921541e-02, 4.38951348e-03, 2.21260009e-02, 1.81560172e-02,\n        1.19198787e-03, 3.25651805e-02, 2.90533203e-02, 3.28104533e-02,\n        1.91544713e-02, 5.07666695e-03, 6.39000038e-03],\n       [1.15054504e-02, 8.82390190e-12, 1.41012218e-11, 8.28782887e-03,\n        2.62421148e-02, 7.35137686e-03, 5.89147954e-02, 4.48833407e-02,\n        4.09580006e-02, 5.03943052e-02, 2.66189962e-02, 1.84540383e-03,\n        2.61041069e-02, 1.83761099e-02, 5.76025471e-03],\n       [1.21205694e-02, 1.33905463e-02, 2.63627446e-02, 2.01781916e-02,\n        2.59554527e-02, 5.20094400e-02, 9.99823370e-02, 1.16686322e-02,\n        1.42361371e-02, 5.91679622e-02, 4.95765203e-02, 2.46629827e-02,\n        2.79158570e-02, 1.40849810e-02, 5.76025471e-03],\n       [1.79575574e-02, 2.37498645e-02, 2.92585720e-02, 2.61214957e-02,\n        2.26004656e-02, 2.72464805e-02, 1.00627490e-01, 5.93748770e-02,\n        4.76689871e-02, 8.23858990e-02, 3.13130678e-02, 1.36610560e-02,\n        2.48395637e-02, 1.09935414e-02, 7.99521914e-03],\n       [2.04930808e-02, 2.33257020e-02, 1.06390492e-02, 8.83540147e-11,\n        9.55886063e-02, 9.55886063e-02, 1.40860410e-01, 1.01828426e-01,\n        6.60205414e-03, 6.68823914e-02, 1.23613169e-02, 7.82788357e-11,\n        1.51433961e-02, 3.82804921e-04, 5.23851699e-03],\n       [1.85871281e-02, 4.22724238e-02, 4.85697816e-02, 6.73636233e-02,\n        1.73400525e-01, 1.65664482e-01, 9.99999997e-01, 7.28476831e-02,\n        1.61737583e-01, 7.25590935e-02, 1.08401680e-10, 1.07090798e-10,\n        1.64829093e-02, 1.59841487e-02, 5.13178676e-03],\n       [2.05636497e-02, 3.09248922e-02, 2.10213704e-02, 2.48175047e-02,\n        1.80894266e-02, 1.65975708e-01, 8.38094762e-01, 2.98635656e-01,\n        2.71016304e-01, 6.27447432e-02, 7.57556152e-03, 8.35981052e-04,\n        2.02598377e-11, 2.07931231e-02, 5.13178676e-03],\n       [4.20932282e-11, 1.84884984e-02, 2.68876363e-02, 1.66319723e-02,\n        3.99973813e-02, 8.65897044e-04, 2.94616024e-01, 7.58893398e-02,\n        4.41079695e-02, 7.12456540e-02, 4.34469108e-02, 3.92589530e-02,\n        3.94571651e-11, 2.16226190e-02, 8.21277930e-03],\n       [3.96047929e-03, 1.76505685e-02, 2.70622012e-02, 2.34302348e-02,\n        7.12664059e-02, 8.85324402e-02, 1.89103573e-01, 4.30729092e-02,\n        1.87581252e-02, 3.28777321e-02, 2.81774977e-02, 3.85964041e-02,\n        2.16033285e-02, 3.59556980e-02, 6.31017135e-03],\n       [4.92340185e-03, 6.90851978e-03, 6.26184172e-03, 1.46205698e-10,\n        2.89121754e-02, 3.72699471e-02, 9.59805576e-02, 1.78368941e-02,\n        1.71712932e-10, 3.40867064e-02, 5.85702436e-02, 2.07385607e-02,\n        8.22243595e-11, 2.73980903e-02, 4.04839237e-03],\n       [5.38739818e-03, 7.30268417e-03, 4.55970182e-03, 2.86123033e-10,\n        2.38766477e-02, 2.94083558e-02, 7.89532712e-02, 6.70549077e-02,\n        6.70549077e-02, 7.29680260e-02, 5.89278055e-02, 4.07670698e-02,\n        3.74751597e-02, 3.23499084e-02, 5.05910525e-03]])"
     },
     "execution_count": 40,
     "metadata": {},
     "output_type": "execute_result"
    }
   ],
   "source": [
    "trace_map"
   ],
   "metadata": {
    "collapsed": false
   }
  },
  {
   "cell_type": "code",
   "execution_count": null,
   "outputs": [],
   "source": [
    "aco.get_route((13, 14))"
   ],
   "metadata": {
    "collapsed": false
   }
  },
  {
   "cell_type": "code",
   "execution_count": 282,
   "outputs": [
    {
     "data": {
      "text/plain": "array([[13,  1,  5,  3,  9,  5,  1,  7,  9,  5,  7, 13,  5,  3, 11],\n       [ 9,  6,  9,  4,  0,  7, 12,  3,  8,  5,  7, 11, 11,  8,  6],\n       [12,  3, 14,  9,  6,  9,  5,  4,  4,  7, 13,  4,  4,  0,  3],\n       [ 9,  4,  7, 14, 13,  0,  5,  5,  1,  7,  9,  3, 13,  6, 10],\n       [12,  5,  1,  7, 13,  4,  7,  9,  4,  3, 10, 12,  5,  5,  2],\n       [ 9,  7, 14, 13,  5,  3,  9,  2, 13,  4,  6,  9,  5,  5,  6],\n       [12,  5,  3, 29,  3, 10, 14, 14, 11,  9,  5,  6, 13,  1,  3],\n       [ 9,  5,  0,  5,  0,  4,  1,  5,  4,  6, 11,  9,  5,  6, 10],\n       [14, 13,  6, 11,  8,  7, 10, 11, 13,  1,  4,  4,  7,  9,  2],\n       [13,  5,  1,  2, 12,  7,  8,  2, 13,  2,  9,  3, 11, 14, 10],\n       [11,  9,  6,  8,  7,  9,  6, 12,  7, 12,  2, 14, 12,  5,  6],\n       [ 8,  4,  3, 14, 13,  2, 13,  3, 13,  1,  6, 13,  1,  5,  3],\n       [10, 11, 12,  5,  5,  0,  1,  4,  3,  8,  3, 13,  4,  3, 10],\n       [ 8,  4,  5,  3,  9,  2, 12,  3, 14, 14, 12,  5,  5,  6, 10],\n       [12,  7, 13,  6, 14, 12,  7, 12,  5,  5,  5,  5,  5,  5,  6]])"
     },
     "execution_count": 282,
     "metadata": {},
     "output_type": "execute_result"
    }
   ],
   "source": [
    "M.matrix"
   ],
   "metadata": {
    "collapsed": false
   }
  },
  {
   "cell_type": "code",
   "execution_count": 35,
   "outputs": [
    {
     "data": {
      "text/plain": "1"
     },
     "execution_count": 35,
     "metadata": {},
     "output_type": "execute_result"
    }
   ],
   "source": [
    "M.matrix[(0, 1)]"
   ],
   "metadata": {
    "collapsed": false
   }
  },
  {
   "cell_type": "code",
   "execution_count": 176,
   "outputs": [
    {
     "ename": "ValueError",
     "evalue": "(1, 2) is not in list",
     "output_type": "error",
     "traceback": [
      "\u001B[1;31m---------------------------------------------------------------------------\u001B[0m",
      "\u001B[1;31mValueError\u001B[0m                                Traceback (most recent call last)",
      "Input \u001B[1;32mIn [176]\u001B[0m, in \u001B[0;36m<cell line: 2>\u001B[1;34m()\u001B[0m\n\u001B[0;32m      1\u001B[0m a \u001B[38;5;241m=\u001B[39m \u001B[38;5;28mlist\u001B[39m(\u001B[38;5;28mrange\u001B[39m(\u001B[38;5;241m19\u001B[39m))\n\u001B[1;32m----> 2\u001B[0m \u001B[43ma\u001B[49m\u001B[38;5;241;43m.\u001B[39;49m\u001B[43mindex\u001B[49m\u001B[43m(\u001B[49m\u001B[43m(\u001B[49m\u001B[38;5;241;43m1\u001B[39;49m\u001B[43m,\u001B[49m\u001B[43m \u001B[49m\u001B[38;5;241;43m2\u001B[39;49m\u001B[43m)\u001B[49m\u001B[43m)\u001B[49m\n",
      "\u001B[1;31mValueError\u001B[0m: (1, 2) is not in list"
     ]
    }
   ],
   "source": [
    "a = list(range(19))\n"
   ],
   "metadata": {
    "collapsed": false
   }
  },
  {
   "cell_type": "code",
   "execution_count": 230,
   "outputs": [
    {
     "data": {
      "text/plain": "array([[0., 1., 2.],\n       [3., 4., 5.],\n       [6., 7., 8.]])"
     },
     "execution_count": 230,
     "metadata": {},
     "output_type": "execute_result"
    }
   ],
   "source": [
    "np.arange(9.0).reshape((3, 3))"
   ],
   "metadata": {
    "collapsed": false
   }
  },
  {
   "cell_type": "code",
   "execution_count": 229,
   "outputs": [
    {
     "data": {
      "text/plain": "array([0., 1., 2.])"
     },
     "execution_count": 229,
     "metadata": {},
     "output_type": "execute_result"
    }
   ],
   "source": [
    "np.arange(3.0)"
   ],
   "metadata": {
    "collapsed": false
   }
  },
  {
   "cell_type": "code",
   "execution_count": 233,
   "outputs": [
    {
     "data": {
      "text/plain": "array([[ 0. ,  1.5,  3. ],\n       [ 4.5,  6. ,  7.5],\n       [ 9. , 10.5, 12. ]])"
     },
     "execution_count": 233,
     "metadata": {},
     "output_type": "execute_result"
    }
   ],
   "source": [
    "x1 = np.arange(9.0).reshape((3, 3))\n",
    "x2 = np.arange(9.0).reshape((3, 3))/2\n",
    "x1+x2"
   ],
   "metadata": {
    "collapsed": false
   }
  },
  {
   "cell_type": "code",
   "execution_count": 34,
   "outputs": [],
   "source": [
    "from PIL import Image\n",
    "\n",
    "img = Image.new( 'RGB', (255, 255), \"white\") # create a new black image\n",
    "pixels = img.load() # create the pixel map\n",
    "\n",
    "# for y in range(img.size[0]):    # for every pixel:\n",
    "#     for x in range(10):\n",
    "#         pixels[y, x] = (0,0,0)\n",
    "    # for y in range(img.size[1]):\n",
    "    #     pixels[i,j] = (i, j, 100) # set the colour accordingly\n",
    "\n",
    "img.show()"
   ],
   "metadata": {
    "collapsed": false
   }
  },
  {
   "cell_type": "code",
   "execution_count": 35,
   "outputs": [],
   "source": [
    "def draw_up(img: Image):\n",
    "    pixels = img.load()\n",
    "    for y in range(img.size[0]):\n",
    "        for x in range(10):\n",
    "            pixels[y, x] = (0,0,0)\n",
    "    return img\n",
    "\n",
    "def draw_bottom(img: Image):\n",
    "    pixels = img.load()\n",
    "    for y in range(img.size[0]):\n",
    "        for x in range(img.size[0]-10, img.size[0]):\n",
    "            pixels[y, x] = (0,0,0)\n",
    "    return img\n",
    "\n",
    "def draw_right(img: Image):\n",
    "    pixels = img.load()\n",
    "    for y in range(10):\n",
    "        for x in range(img.size[0]):\n",
    "            pixels[y, x] = (0,0,0)\n",
    "    return img\n",
    "\n",
    "def draw_left(img: Image):\n",
    "    pixels = img.load()\n",
    "    for y in range(img.size[0]-10, img.size[0]):\n",
    "        for x in range(img.size[0]):\n",
    "            pixels[y, x] = (0,0,0)\n",
    "    return img"
   ],
   "metadata": {
    "collapsed": false
   }
  },
  {
   "cell_type": "code",
   "execution_count": 36,
   "outputs": [],
   "source": [
    "a = draw_up(img)\n",
    "b = draw_bottom(img)\n",
    "c = draw_left(img)\n",
    "d = draw_right(img)"
   ],
   "metadata": {
    "collapsed": false
   }
  },
  {
   "cell_type": "code",
   "execution_count": 38,
   "outputs": [],
   "source": [
    "d.show()"
   ],
   "metadata": {
    "collapsed": false
   }
  },
  {
   "cell_type": "code",
   "execution_count": 41,
   "outputs": [
    {
     "data": {
      "text/plain": "2.2250738585072014e-308"
     },
     "execution_count": 41,
     "metadata": {},
     "output_type": "execute_result"
    }
   ],
   "source": [
    "import sys\n",
    "max(sys.float_info.min, 0)"
   ],
   "metadata": {
    "collapsed": false
   }
  }
 ],
 "metadata": {
  "kernelspec": {
   "display_name": "Python 3",
   "language": "python",
   "name": "python3"
  },
  "language_info": {
   "codemirror_mode": {
    "name": "ipython",
    "version": 2
   },
   "file_extension": ".py",
   "mimetype": "text/x-python",
   "name": "python",
   "nbconvert_exporter": "python",
   "pygments_lexer": "ipython2",
   "version": "2.7.6"
  }
 },
 "nbformat": 4,
 "nbformat_minor": 0
}
