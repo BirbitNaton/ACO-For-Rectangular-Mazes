{
 "cells": [
  {
   "cell_type": "code",
   "execution_count": 87,
   "metadata": {
    "collapsed": true
   },
   "outputs": [],
   "source": [
    "import numpy as np\n",
    "import random as rnd\n",
    "from tqdm import tqdm\n",
    "\n",
    "rnd.seed(42)"
   ]
  },
  {
   "cell_type": "code",
   "execution_count": 88,
   "outputs": [],
   "source": [
    "class Maze:\n",
    "\n",
    "    matrix = np.array\n",
    "    connectivity = int\n",
    "    width = int\n",
    "    height = int\n",
    "\n",
    "    def __init__(self, path):\n",
    "        import numpy as np\n",
    "        import random as rnd\n",
    "        rnd.seed(42)\n",
    "\n",
    "        with open(path, 'r') as maze:\n",
    "            maze = [int(x) for x in maze.readline().split()]\n",
    "        width, height = maze[0:2]\n",
    "        connectivity = maze[2]\n",
    "        maze = maze[3:]\n",
    "        matrix = []\n",
    "\n",
    "        for y in range(height):\n",
    "            matrix.append(maze[0 + height*y : width + height*y])\n",
    "\n",
    "        self.matrix = np.array(matrix)\n",
    "        self.width, self.height, self.connectivity, self.shape = \\\n",
    "            width, height, connectivity, (width, height) #NOTE: np.array.shape is (height, width), don't confuse those, although doesn't matter for square labyrinths\n",
    "\n",
    "        self.target_loc = np.unravel_index(np.argmax(self.matrix, axis=None), self.matrix.shape)\n",
    "\n",
    "\n",
    "    def up_frame(self, cell_code: int):\n",
    "        return cell_code//1%2==1\n",
    "\n",
    "    def right_frame(self, cell_code: int):\n",
    "        return cell_code//2%2==1\n",
    "\n",
    "    def bottom_frame(self, cell_code: int):\n",
    "        return cell_code//4%2==1\n",
    "\n",
    "    def left_frame(self, cell_code: int):\n",
    "        return cell_code//8%2==1\n",
    "\n",
    "\n",
    "    def up_frame_coords(self, coordinates: tuple[int, int]):\n",
    "        x, y = coordinates\n",
    "        cell_code = self.matrix[x][y]\n",
    "        return cell_code//1%2==1\n",
    "\n",
    "    def right_frame_coords(self, coordinates: tuple[int, int]):\n",
    "        x, y = coordinates\n",
    "        cell_code = self.matrix[x][y]\n",
    "        return cell_code//2%2==1\n",
    "\n",
    "    def bottom_frame_coords(self, coordinates: tuple[int, int]):\n",
    "        x, y = coordinates\n",
    "        cell_code = self.matrix[x][y]\n",
    "        return cell_code//4%2==1\n",
    "\n",
    "    def left_frame_coords(self, coordinates: tuple[int, int]):\n",
    "        x, y = coordinates\n",
    "        cell_code = self.matrix[x][y]\n",
    "        return cell_code//8%2==1"
   ],
   "metadata": {
    "collapsed": false
   }
  },
  {
   "cell_type": "code",
   "execution_count": 89,
   "outputs": [],
   "source": [
    "class Ant:\n",
    "\n",
    "    def __init__(self, x:int, y:int):\n",
    "        self.position_init = (x, y)\n",
    "        self.position = (x, y)\n",
    "        self.route = [self.position_init]\n",
    "\n",
    "    def reset(self):\n",
    "        self.position = self.position_init\n",
    "        self.route = [self.position_init]"
   ],
   "metadata": {
    "collapsed": false
   }
  },
  {
   "cell_type": "code",
   "execution_count": 90,
   "outputs": [],
   "source": [
    "class ACO:\n",
    "\n",
    "    def __init__(self, maze:Maze, ant_num:int = None, evaporation_rate:float = 0.1,\n",
    "                 criterion:str = \"max_iter\", route_param_limit:int = 15, max_iter:int = 1000,\n",
    "                 exploitation_const:float = 1.0, trace_log_base:float = 1):\n",
    "        self.maze = maze\n",
    "        self.evaporation_rate = evaporation_rate\n",
    "        self.criterion = criterion\n",
    "        self.route_param_limit = route_param_limit\n",
    "        self.max_iter = max_iter\n",
    "        self.exploitation_const = exploitation_const\n",
    "        self.trace_log_base = trace_log_base\n",
    "\n",
    "        if ant_num is None:\n",
    "            ant_num = maze.width*maze.height\n",
    "        self.ant_num = ant_num\n",
    "        ant_positions = rnd.sample([(x, y) for x in range(maze.width) for y in range(maze.height)], k=self.ant_num)\n",
    "        self.ants = [Ant(pos[0], pos[1]) for pos in ant_positions]\n",
    "\n",
    "        self.temp_trace_map = np.array([[0.0]*maze.width]*maze.height)\n",
    "        self.trace_map = np.array([[1.0]*maze.width]*maze.height)\n",
    "\n",
    "        self.depth = 0\n",
    "        self.came2target = 0\n",
    "\n",
    "    def clear_traces(self):\n",
    "        self.temp_trace_map = np.array([[0.0]*self.maze.width]*self.maze.height)\n",
    "\n",
    "    def move(self, ant:Ant, exploiting:bool = False):\n",
    "        self.exploitation_const = 1\n",
    "        x, y = ant.position\n",
    "        if ant.position == self.maze.target_loc:\n",
    "            return ant.position\n",
    "\n",
    "        ways = [(x+1, y),\n",
    "                (x-1, y),\n",
    "                (x, y+1),\n",
    "                (x, y-1)]\n",
    "        checks = [self.maze.bottom_frame_coords,\n",
    "                  self.maze.up_frame_coords,\n",
    "                  self.maze.right_frame_coords,\n",
    "                  self.maze.left_frame_coords]\n",
    "\n",
    "        ways = [ways[i] for i in range(len(ways)) if not (checks[i](ant.position) or ways[i] in ant.route)]\n",
    "\n",
    "        if len(ways) == 0:\n",
    "            return None\n",
    "\n",
    "        if self.maze.target_loc in ways:\n",
    "            final_way = self.maze.target_loc\n",
    "            self.came2target += 1\n",
    "        else:\n",
    "            weights = [self.trace_map[way]**self.exploitation_const for way in ways]\n",
    "            final_way = rnd.choices(population=ways, weights=weights, k=1)[0]\n",
    "            if exploiting:\n",
    "                final_way = ways[np.argmax(weights)]\n",
    "\n",
    "        ant.position = final_way\n",
    "        ant.route.append(final_way)\n",
    "        return ant.position\n",
    "\n",
    "    def fit(self):\n",
    "        for _ in tqdm(range(self.max_iter)):\n",
    "            if sum([int(aco.get_route((x, y))[2])\n",
    "                    for x in range(aco.maze.width)\n",
    "                    for y in range(aco.maze.height)])\\\n",
    "                    /(self.maze.height * aco.maze.width) == 1 and self.criterion == \"connectivity\":\n",
    "                break\n",
    "            if self.criterion == \"avg_route\" and sum([int(aco.get_route((x, y))[1])\n",
    "                                                      for x in range(aco.maze.width)\n",
    "                                                      for y in range(aco.maze.height)])\\\n",
    "                    /(self.maze.height * aco.maze.width) == 1:\n",
    "                break\n",
    "            if self.criterion == \"max_route\" and self.depth < self.route_param_limit:\n",
    "                break\n",
    "            if min([int(aco.get_route((x, y))[1])\n",
    "                    for x in range(aco.maze.width)\n",
    "                    for y in range(aco.maze.height)]) == 1 < self.route_param_limit and self.criterion == \"min_route\":\n",
    "                break\n",
    "\n",
    "            for ant in self.ants:\n",
    "                self.trace_log_base = 0.1\n",
    "                while self.move(ant) not in [None, self.maze.target_loc]:\n",
    "                    continue\n",
    "                route = ant.route\n",
    "                n = len(route)\n",
    "\n",
    "                if self.depth<n:\n",
    "                    self.depth = n\n",
    "\n",
    "                if self.maze.target_loc in route:\n",
    "                    self.trace_log_base = 1000.0\n",
    "\n",
    "                for point in route:\n",
    "                    self.temp_trace_map[point] += (self.trace_log_base**2)/n\n",
    "                ant.reset()\n",
    "\n",
    "            self.trace_map = self.trace_map + self.temp_trace_map\n",
    "            self.clear_traces()\n",
    "            self.trace_map = self.trace_map * (1-self.evaporation_rate)\n",
    "\n",
    "        self.trace_map = (self.trace_map - np.min(self.trace_map))/np.max(self.trace_map)\n",
    "        return self.trace_map\n",
    "\n",
    "    def get_route(self, coordinates: tuple[int, int]):\n",
    "        x, y = coordinates\n",
    "        explorer_ant = Ant(x, y)\n",
    "\n",
    "        while self.move(explorer_ant, exploiting=True) not in [None, self.maze.target_loc]:\n",
    "            continue\n",
    "        return explorer_ant.route, len(explorer_ant.route), explorer_ant.position==self.maze.target_loc, self.depth"
   ],
   "metadata": {
    "collapsed": false
   }
  },
  {
   "cell_type": "code",
   "execution_count": 91,
   "outputs": [
    {
     "name": "stderr",
     "output_type": "stream",
     "text": [
      "  1%|          | 7/1000 [00:01<03:03,  5.41it/s]\n"
     ]
    },
    {
     "data": {
      "text/plain": "array([[3.03339425e-10, 3.63223326e-03, 4.75855341e-03, 2.46085132e-03,\n        1.94740752e-03, 1.12173158e-02, 1.15697010e-02, 5.29734761e-04,\n        2.46344926e-03, 2.82837701e-03, 3.19330456e-03, 4.18079898e-03,\n        4.18079893e-03, 8.63175360e-03, 4.46188280e-03],\n       [1.50731053e-03, 6.99097896e-03, 1.72431852e-03, 4.33046514e-03,\n        7.70336684e-03, 1.05346975e-02, 9.83629428e-03, 1.29238039e-02,\n        0.00000000e+00, 2.42521214e-03, 3.19330447e-03, 3.75646445e-03,\n        6.24796169e-03, 1.44139325e-02, 4.14312270e-03],\n       [7.51882031e-03, 6.99097847e-03, 5.54234177e-04, 1.62692008e-03,\n        1.44273022e-02, 2.06224711e-02, 2.21566910e-02, 2.55447603e-02,\n        2.02582474e-02, 1.37930121e-02, 8.67488944e-03, 6.91419382e-03,\n        5.15462664e-03, 1.60576124e-02, 1.12266015e-03],\n       [1.21346264e-02, 6.67496589e-03, 4.74264727e-03, 1.93741166e-03,\n        1.30267378e-02, 1.83694875e-02, 3.23539286e-02, 1.71263487e-02,\n        1.70138120e-02, 9.26234306e-03, 2.26104264e-03, 2.82586019e-02,\n        2.25202862e-02, 2.35496136e-02, 6.64852969e-03],\n       [1.21346264e-02, 2.84114812e-03, 3.73771408e-03, 3.03219491e-03,\n        3.32754673e-03, 3.08661229e-03, 3.22577450e-02, 1.02813113e-02,\n        1.60902868e-03, 4.50328347e-02, 3.75091147e-02, 3.48105952e-02,\n        8.46128510e-03, 5.84172261e-03, 5.68311239e-03],\n       [1.32073121e-02, 3.21548164e-03, 1.45416410e-02, 1.95447829e-02,\n        1.33586424e-02, 5.71561251e-03, 1.01212472e-01, 6.30099576e-02,\n        5.96979941e-02, 5.52610275e-02, 4.93943238e-03, 7.24062921e-04,\n        1.18372342e-02, 1.18227849e-02, 3.31320906e-03],\n       [1.42210002e-02, 1.42210001e-02, 3.26607502e-02, 2.65259433e-02,\n        1.81483539e-02, 4.72520321e-02, 1.36904797e-01, 4.20562084e-03,\n        2.80147305e-02, 5.77750613e-02, 3.64550883e-02, 1.77592916e-02,\n        2.16382794e-02, 9.24486183e-03, 5.00586614e-04],\n       [3.63887090e-02, 5.82715227e-02, 4.75159645e-02, 4.12902648e-02,\n        2.83733464e-02, 2.72888839e-02, 1.31409847e-01, 2.20818858e-02,\n        8.94030111e-03, 4.82805435e-02, 3.95320135e-02, 7.94701272e-03,\n        1.62711640e-02, 1.24871341e-02, 4.50748878e-03],\n       [3.52174384e-02, 4.96563279e-02, 1.32641292e-02, 2.83900718e-03,\n        1.42526017e-01, 1.28157964e-01, 1.68315486e-01, 9.46224006e-02,\n        7.24062737e-04, 5.56834482e-02, 3.05754764e-02, 1.12973785e-03,\n        1.85639617e-03, 8.39006520e-03, 4.67814319e-03],\n       [3.52174385e-02, 9.35006600e-02, 8.71401251e-02, 1.12772145e-01,\n        2.51377386e-01, 2.46325328e-01, 9.99999988e-01, 8.65342421e-02,\n        1.48312840e-01, 5.58250160e-02, 1.13689031e-03, 5.51345023e-03,\n        2.66257375e-03, 8.59082518e-03, 5.74518327e-03],\n       [3.44149615e-02, 6.18082007e-02, 1.07986637e-02, 2.51459993e-02,\n        1.62950314e-02, 3.23514787e-01, 8.82479045e-01, 2.28601145e-01,\n        1.91816371e-01, 1.73988494e-02, 1.91214094e-02, 1.60581057e-02,\n        4.91690919e-03, 1.56024192e-02, 7.17120253e-03],\n       [2.71141323e-03, 3.84987400e-02, 7.53477581e-03, 7.72304816e-03,\n        2.56232097e-02, 8.70361797e-02, 3.37076790e-01, 5.74035784e-02,\n        2.00881578e-02, 3.67456753e-02, 2.81952189e-02, 1.42345471e-02,\n        1.28757401e-02, 1.98545865e-02, 3.44273228e-03],\n       [2.30792438e-02, 4.08448051e-02, 3.17442235e-02, 2.77191484e-02,\n        5.87881454e-02, 9.27338248e-02, 2.12674381e-01, 3.84470475e-02,\n        1.48546233e-02, 2.20016202e-02, 2.20016203e-02, 1.47143930e-02,\n        2.16778580e-02, 1.86554372e-02, 4.12560270e-03],\n       [2.22581566e-02, 1.37853879e-02, 1.24823652e-02, 7.44385155e-03,\n        3.45556412e-02, 4.59361776e-02, 1.15126079e-01, 1.34709055e-02,\n        4.26557146e-03, 4.35093814e-02, 5.17921173e-02, 1.89423943e-02,\n        1.16305430e-02, 1.52184965e-02, 9.85304983e-04],\n       [1.15398556e-02, 1.11200401e-02, 3.42640694e-03, 1.09478341e-03,\n        3.35375275e-02, 3.67555850e-02, 1.02059188e-01, 9.91383023e-02,\n        8.79718582e-02, 8.52880209e-02, 5.13334515e-02, 3.06125101e-02,\n        2.54130063e-02, 2.38924745e-02, 4.68768848e-03]])"
     },
     "execution_count": 91,
     "metadata": {},
     "output_type": "execute_result"
    }
   ],
   "source": [
    "M = Maze(\"mazes/M25_1.mz\")\n",
    "aco = ACO(M, criterion=\"connectivity\")\n",
    "\n",
    "aco.fit()"
   ],
   "metadata": {
    "collapsed": false
   }
  },
  {
   "cell_type": "code",
   "execution_count": 92,
   "outputs": [
    {
     "data": {
      "text/plain": "1.0"
     },
     "execution_count": 92,
     "metadata": {},
     "output_type": "execute_result"
    }
   ],
   "source": [
    "sum([int(aco.get_route((x, y))[2]) for x in range(aco.maze.width) for y in range(aco.maze.height)])/225"
   ],
   "metadata": {
    "collapsed": false
   }
  },
  {
   "cell_type": "code",
   "execution_count": 93,
   "outputs": [
    {
     "data": {
      "text/plain": "([(13, 14),\n  (13, 13),\n  (14, 13),\n  (14, 12),\n  (14, 11),\n  (14, 10),\n  (14, 9),\n  (14, 8),\n  (14, 7),\n  (14, 6),\n  (13, 6),\n  (12, 6),\n  (11, 6),\n  (10, 6),\n  (9, 6)],\n 15,\n True,\n 67)"
     },
     "execution_count": 93,
     "metadata": {},
     "output_type": "execute_result"
    }
   ],
   "source": [
    "aco.get_route((13, 14))"
   ],
   "metadata": {
    "collapsed": false
   }
  },
  {
   "cell_type": "code",
   "execution_count": 282,
   "outputs": [
    {
     "data": {
      "text/plain": "array([[13,  1,  5,  3,  9,  5,  1,  7,  9,  5,  7, 13,  5,  3, 11],\n       [ 9,  6,  9,  4,  0,  7, 12,  3,  8,  5,  7, 11, 11,  8,  6],\n       [12,  3, 14,  9,  6,  9,  5,  4,  4,  7, 13,  4,  4,  0,  3],\n       [ 9,  4,  7, 14, 13,  0,  5,  5,  1,  7,  9,  3, 13,  6, 10],\n       [12,  5,  1,  7, 13,  4,  7,  9,  4,  3, 10, 12,  5,  5,  2],\n       [ 9,  7, 14, 13,  5,  3,  9,  2, 13,  4,  6,  9,  5,  5,  6],\n       [12,  5,  3, 29,  3, 10, 14, 14, 11,  9,  5,  6, 13,  1,  3],\n       [ 9,  5,  0,  5,  0,  4,  1,  5,  4,  6, 11,  9,  5,  6, 10],\n       [14, 13,  6, 11,  8,  7, 10, 11, 13,  1,  4,  4,  7,  9,  2],\n       [13,  5,  1,  2, 12,  7,  8,  2, 13,  2,  9,  3, 11, 14, 10],\n       [11,  9,  6,  8,  7,  9,  6, 12,  7, 12,  2, 14, 12,  5,  6],\n       [ 8,  4,  3, 14, 13,  2, 13,  3, 13,  1,  6, 13,  1,  5,  3],\n       [10, 11, 12,  5,  5,  0,  1,  4,  3,  8,  3, 13,  4,  3, 10],\n       [ 8,  4,  5,  3,  9,  2, 12,  3, 14, 14, 12,  5,  5,  6, 10],\n       [12,  7, 13,  6, 14, 12,  7, 12,  5,  5,  5,  5,  5,  5,  6]])"
     },
     "execution_count": 282,
     "metadata": {},
     "output_type": "execute_result"
    }
   ],
   "source": [
    "M.matrix"
   ],
   "metadata": {
    "collapsed": false
   }
  },
  {
   "cell_type": "code",
   "execution_count": 35,
   "outputs": [
    {
     "data": {
      "text/plain": "1"
     },
     "execution_count": 35,
     "metadata": {},
     "output_type": "execute_result"
    }
   ],
   "source": [
    "M.matrix[(0, 1)]"
   ],
   "metadata": {
    "collapsed": false
   }
  },
  {
   "cell_type": "code",
   "execution_count": 176,
   "outputs": [
    {
     "ename": "ValueError",
     "evalue": "(1, 2) is not in list",
     "output_type": "error",
     "traceback": [
      "\u001B[1;31m---------------------------------------------------------------------------\u001B[0m",
      "\u001B[1;31mValueError\u001B[0m                                Traceback (most recent call last)",
      "Input \u001B[1;32mIn [176]\u001B[0m, in \u001B[0;36m<cell line: 2>\u001B[1;34m()\u001B[0m\n\u001B[0;32m      1\u001B[0m a \u001B[38;5;241m=\u001B[39m \u001B[38;5;28mlist\u001B[39m(\u001B[38;5;28mrange\u001B[39m(\u001B[38;5;241m19\u001B[39m))\n\u001B[1;32m----> 2\u001B[0m \u001B[43ma\u001B[49m\u001B[38;5;241;43m.\u001B[39;49m\u001B[43mindex\u001B[49m\u001B[43m(\u001B[49m\u001B[43m(\u001B[49m\u001B[38;5;241;43m1\u001B[39;49m\u001B[43m,\u001B[49m\u001B[43m \u001B[49m\u001B[38;5;241;43m2\u001B[39;49m\u001B[43m)\u001B[49m\u001B[43m)\u001B[49m\n",
      "\u001B[1;31mValueError\u001B[0m: (1, 2) is not in list"
     ]
    }
   ],
   "source": [
    "a = list(range(19))\n"
   ],
   "metadata": {
    "collapsed": false
   }
  },
  {
   "cell_type": "code",
   "execution_count": 230,
   "outputs": [
    {
     "data": {
      "text/plain": "array([[0., 1., 2.],\n       [3., 4., 5.],\n       [6., 7., 8.]])"
     },
     "execution_count": 230,
     "metadata": {},
     "output_type": "execute_result"
    }
   ],
   "source": [
    "np.arange(9.0).reshape((3, 3))"
   ],
   "metadata": {
    "collapsed": false
   }
  },
  {
   "cell_type": "code",
   "execution_count": 229,
   "outputs": [
    {
     "data": {
      "text/plain": "array([0., 1., 2.])"
     },
     "execution_count": 229,
     "metadata": {},
     "output_type": "execute_result"
    }
   ],
   "source": [
    "np.arange(3.0)"
   ],
   "metadata": {
    "collapsed": false
   }
  },
  {
   "cell_type": "code",
   "execution_count": 233,
   "outputs": [
    {
     "data": {
      "text/plain": "array([[ 0. ,  1.5,  3. ],\n       [ 4.5,  6. ,  7.5],\n       [ 9. , 10.5, 12. ]])"
     },
     "execution_count": 233,
     "metadata": {},
     "output_type": "execute_result"
    }
   ],
   "source": [
    "x1 = np.arange(9.0).reshape((3, 3))\n",
    "x2 = np.arange(9.0).reshape((3, 3))/2\n",
    "x1+x2"
   ],
   "metadata": {
    "collapsed": false
   }
  },
  {
   "cell_type": "code",
   "execution_count": 34,
   "outputs": [],
   "source": [
    "from PIL import Image\n",
    "\n",
    "img = Image.new( 'RGB', (255, 255), \"white\") # create a new black image\n",
    "pixels = img.load() # create the pixel map\n",
    "\n",
    "# for y in range(img.size[0]):    # for every pixel:\n",
    "#     for x in range(10):\n",
    "#         pixels[y, x] = (0,0,0)\n",
    "    # for y in range(img.size[1]):\n",
    "    #     pixels[i,j] = (i, j, 100) # set the colour accordingly\n",
    "\n",
    "img.show()"
   ],
   "metadata": {
    "collapsed": false
   }
  },
  {
   "cell_type": "code",
   "execution_count": 35,
   "outputs": [],
   "source": [
    "def draw_up(img: Image):\n",
    "    pixels = img.load()\n",
    "    for y in range(img.size[0]):\n",
    "        for x in range(10):\n",
    "            pixels[y, x] = (0,0,0)\n",
    "    return img\n",
    "\n",
    "def draw_bottom(img: Image):\n",
    "    pixels = img.load()\n",
    "    for y in range(img.size[0]):\n",
    "        for x in range(img.size[0]-10, img.size[0]):\n",
    "            pixels[y, x] = (0,0,0)\n",
    "    return img\n",
    "\n",
    "def draw_right(img: Image):\n",
    "    pixels = img.load()\n",
    "    for y in range(10):\n",
    "        for x in range(img.size[0]):\n",
    "            pixels[y, x] = (0,0,0)\n",
    "    return img\n",
    "\n",
    "def draw_left(img: Image):\n",
    "    pixels = img.load()\n",
    "    for y in range(img.size[0]-10, img.size[0]):\n",
    "        for x in range(img.size[0]):\n",
    "            pixels[y, x] = (0,0,0)\n",
    "    return img"
   ],
   "metadata": {
    "collapsed": false
   }
  },
  {
   "cell_type": "code",
   "execution_count": 36,
   "outputs": [],
   "source": [
    "a = draw_up(img)\n",
    "b = draw_bottom(img)\n",
    "c = draw_left(img)\n",
    "d = draw_right(img)"
   ],
   "metadata": {
    "collapsed": false
   }
  },
  {
   "cell_type": "code",
   "execution_count": 38,
   "outputs": [],
   "source": [
    "d.show()"
   ],
   "metadata": {
    "collapsed": false
   }
  },
  {
   "cell_type": "code",
   "execution_count": null,
   "outputs": [],
   "source": [],
   "metadata": {
    "collapsed": false
   }
  }
 ],
 "metadata": {
  "kernelspec": {
   "display_name": "Python 3",
   "language": "python",
   "name": "python3"
  },
  "language_info": {
   "codemirror_mode": {
    "name": "ipython",
    "version": 2
   },
   "file_extension": ".py",
   "mimetype": "text/x-python",
   "name": "python",
   "nbconvert_exporter": "python",
   "pygments_lexer": "ipython2",
   "version": "2.7.6"
  }
 },
 "nbformat": 4,
 "nbformat_minor": 0
}
