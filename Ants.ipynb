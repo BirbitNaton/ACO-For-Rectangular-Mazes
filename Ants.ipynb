{
 "cells": [
  {
   "cell_type": "code",
   "execution_count": 17,
   "outputs": [],
   "source": [
    "import numpy as np\n",
    "import pandas as pd\n",
    "import random as rnd\n",
    "\n",
    "rnd.seed(42)"
   ],
   "metadata": {
    "collapsed": false
   }
  },
  {
   "cell_type": "code",
   "execution_count": 2,
   "outputs": [],
   "source": [
    "class Maze:\n",
    "    matrix = np.array\n",
    "    connectivity = None\n",
    "\n",
    "    def __init__(self, path):\n",
    "        with open(path, 'r') as maze:\n",
    "            maze = [int(x) for x in maze.readline().split()]\n",
    "        width, height = maze[0:2]\n",
    "        connectivity = maze[2]\n",
    "        maze = maze[3:]\n",
    "        matrix = []\n",
    "\n",
    "        for y in range(height):\n",
    "            matrix.append(maze[0+height*y: width + height*y])\n",
    "\n",
    "        self.matrix = np.array(matrix)\n",
    "        self.connectivity = connectivity\n",
    "\n",
    "\n",
    "    def up_frame(self, cell_code: int):\n",
    "        return cell_code//1%2==1\n",
    "\n",
    "    def right_frame(self, cell_code: int):\n",
    "        return cell_code//2%2==1\n",
    "\n",
    "    def bottom_frame(self, cell_code: int):\n",
    "        return cell_code//4%2==1\n",
    "\n",
    "    def left_frame(self, cell_code: int):\n",
    "        return cell_code//8%2==1\n",
    "\n",
    "\n",
    "    def up_frame_coords(self, x: int, y: int):\n",
    "        cell_code = self.matrix[y][x]\n",
    "        return cell_code//1%2==1\n",
    "\n",
    "    def right_frame_coords(self, x: int, y: int):\n",
    "        cell_code = self.matrix[y][x]\n",
    "        return cell_code//2%2==1\n",
    "\n",
    "    def bottom_frame_coords(self, x: int, y: int):\n",
    "        cell_code = self.matrix[y][x]\n",
    "        return cell_code//4%2==1\n",
    "\n",
    "    def left_frame_coords(self, x: int, y: int):\n",
    "        cell_code = self.matrix[y][x]\n",
    "        return cell_code//8%2==1"
   ],
   "metadata": {
    "collapsed": false
   }
  },
  {
   "cell_type": "code",
   "execution_count": null,
   "outputs": [],
   "source": [
    "class Ant:\n",
    "    import numpy as np\n",
    "\n",
    "    route = []\n",
    "    def __init__(self, x:int, y:int):\n",
    "        self.x, self.y = x, y\n",
    "        self.position = (x, y)"
   ],
   "metadata": {
    "collapsed": false
   }
  },
  {
   "cell_type": "code",
   "execution_count": 35,
   "outputs": [
    {
     "ename": "SyntaxError",
     "evalue": "expected ':' (4127121870.py, line 73)",
     "output_type": "error",
     "traceback": [
      "\u001B[1;36m  Input \u001B[1;32mIn [35]\u001B[1;36m\u001B[0m\n\u001B[1;33m    while ant\u001B[0m\n\u001B[1;37m             ^\u001B[0m\n\u001B[1;31mSyntaxError\u001B[0m\u001B[1;31m:\u001B[0m expected ':'\n"
     ]
    }
   ],
   "source": [
    "class ACO:\n",
    "    import numpy as np\n",
    "\n",
    "    stopping_criteria = str\n",
    "    graph = np.ndarray\n",
    "    ant_num = int\n",
    "    ant_locations = None\n",
    "    evaporation_rate = float\n",
    "    maze = np.ndarray\n",
    "    target_position = (int, int)\n",
    "\n",
    "    iter_counter = 0\n",
    "    iter_stop = int\n",
    "\n",
    "    def __init__(self, width:int, height:int, maze:np.ndarray = None, graph:np.ndarray = None, edge_graph:np.ndarray = None,\n",
    "                 ant_num:int = None, evaporation_rate:float = 0.1, stopping_criteria:str = \"iterations\", iter_stop:int = 100):\n",
    "        self.width, self.height = width, height\n",
    "        self.evaporation_rate = evaporation_rate\n",
    "        self.stopping_criteria = stopping_criteria\n",
    "        self.iter_stop = iter_stop\n",
    "\n",
    "\n",
    "        if (maze != None and graph != None) or (maze != None and edge_graph != None) or (edge_graph != None and graph != None):\n",
    "            raise Exception(\"Value Error: two or more not None graph representations provided\")\n",
    "\n",
    "        if graph != None:\n",
    "            self.graph = graph\n",
    "        elif edge_graph != None:\n",
    "            self.graph = self.edge2ord(edge_graph)\n",
    "        elif maze != None:\n",
    "            self.graph = self.maze2ord(maze)\n",
    "\n",
    "        else:\n",
    "            raise Exception(\"Value Error: provided None maze representations\")\n",
    "\n",
    "\n",
    "\n",
    "\n",
    "\n",
    "        if ant_num is None:\n",
    "            self.ant_num = self.graph.shape[0]*self.graph.shape[0][1]\n",
    "        else:\n",
    "            self.ant_num = ant_num\n",
    "\n",
    "\n",
    "    def iterations_criterion_check(self) -> bool:\n",
    "        return self.iter_counter >= self.iter_stop\n",
    "\n",
    "\n",
    "    def get_shortest_edge(self, edge_graph):\n",
    "        pass\n",
    "    def get_shortest(self, graph):\n",
    "        pass\n",
    "    def edge2ord(self, edge_graph):\n",
    "        pass\n",
    "    def ord2edge(self, graph):\n",
    "        pass\n",
    "    def maze2ord(self, maze):\n",
    "        size = maze.shape[0]*maze.shape[1]\n",
    "        graph = [[0]*size]*size\n",
    "\n",
    "        for i in range(size):\n",
    "            for j in range(size):\n",
    "                pass\n",
    "\n",
    "    def move(self):\n",
    "        return 1, 2\n",
    "\n",
    "    def train(self, maze:np.ndarray):\n",
    "        ant_positions = rnd.sample([(x, y) for x in range(maze.shape[0]) for y in range(maze.shape[1])], k=self.ant_num)\n",
    "        ants = [Ant(pos[0], pos[1]) for pos in ant_positions]\n",
    "\n",
    "        stopping_criteria = callable\n",
    "        if self.stopping_criteria == \"iterations\":\n",
    "            stopping_criteria = self.iterations_criterion_check\n",
    "\n",
    "        while not stopping_criteria():\n",
    "            for ant in ants:\n",
    "                while ant.position !=\n",
    "            self.iter_counter+=1"
   ],
   "metadata": {
    "collapsed": false
   }
  },
  {
   "cell_type": "code",
   "execution_count": 4,
   "metadata": {
    "collapsed": true
   },
   "outputs": [],
   "source": [
    "def up_frame(cell_code: int):\n",
    "    return cell_code//1%2==1\n",
    "\n",
    "def right_frame(cell_code: int):\n",
    "    return cell_code//2%2==1\n",
    "\n",
    "def bottom_frame(cell_code: int):\n",
    "    return cell_code//4%2==1\n",
    "\n",
    "def left_frame(cell_code: int):\n",
    "    return cell_code//8%2==1\n",
    "\n",
    "\n",
    "def load_maze(path: str):\n",
    "    with open(path, 'r') as maze:\n",
    "        maze = [int(x) for x in maze.readline().split()]\n",
    "    width, height = maze[0:2]\n",
    "    connectivity = maze[2]\n",
    "    maze = maze[3:]\n",
    "    matrix = []\n",
    "\n",
    "    for y in range(height):\n",
    "        matrix.append(maze[0+height*y: width + height*y])\n",
    "\n",
    "    return matrix, connectivity"
   ]
  },
  {
   "cell_type": "code",
   "execution_count": 5,
   "outputs": [
    {
     "data": {
      "text/plain": "array([[13,  1,  5,  3,  9,  5,  1,  7,  9,  5,  7, 13,  5,  3, 11],\n       [ 9,  6,  9,  4,  0,  7, 12,  3,  8,  5,  7, 11, 11,  8,  6],\n       [12,  3, 14,  9,  6,  9,  5,  4,  4,  7, 13,  4,  4,  0,  3],\n       [ 9,  4,  7, 14, 13,  0,  5,  5,  1,  7,  9,  3, 13,  6, 10],\n       [12,  5,  1,  7, 13,  4,  7,  9,  4,  3, 10, 12,  5,  5,  2],\n       [ 9,  7, 14, 13,  5,  3,  9,  2, 13,  4,  6,  9,  5,  5,  6],\n       [12,  5,  3, 29,  3, 10, 14, 14, 11,  9,  5,  6, 13,  1,  3],\n       [ 9,  5,  0,  5,  0,  4,  1,  5,  4,  6, 11,  9,  5,  6, 10],\n       [14, 13,  6, 11,  8,  7, 10, 11, 13,  1,  4,  4,  7,  9,  2],\n       [13,  5,  1,  2, 12,  7,  8,  2, 13,  2,  9,  3, 11, 14, 10],\n       [11,  9,  6,  8,  7,  9,  6, 12,  7, 12,  2, 14, 12,  5,  6],\n       [ 8,  4,  3, 14, 13,  2, 13,  3, 13,  1,  6, 13,  1,  5,  3],\n       [10, 11, 12,  5,  5,  0,  1,  4,  3,  8,  3, 13,  4,  3, 10],\n       [ 8,  4,  5,  3,  9,  2, 12,  3, 14, 14, 12,  5,  5,  6, 10],\n       [12,  7, 13,  6, 14, 12,  7, 12,  5,  5,  5,  5,  5,  5,  6]])"
     },
     "execution_count": 5,
     "metadata": {},
     "output_type": "execute_result"
    }
   ],
   "source": [
    "matrix_func, c = load_maze(\"mazes/M100_1.mz\")\n",
    "np.array(matrix_func)"
   ],
   "metadata": {
    "collapsed": false
   }
  },
  {
   "cell_type": "code",
   "execution_count": 6,
   "outputs": [
    {
     "data": {
      "text/plain": "1"
     },
     "execution_count": 6,
     "metadata": {},
     "output_type": "execute_result"
    }
   ],
   "source": [
    "matrix_func[0][1]"
   ],
   "metadata": {
    "collapsed": false
   }
  },
  {
   "cell_type": "code",
   "execution_count": 7,
   "outputs": [
    {
     "data": {
      "text/plain": "numpy.ndarray"
     },
     "execution_count": 7,
     "metadata": {},
     "output_type": "execute_result"
    }
   ],
   "source": [
    "M = Maze(\"mazes/M100_1.mz\")\n",
    "type(M.matrix)"
   ],
   "metadata": {
    "collapsed": false
   }
  },
  {
   "cell_type": "code",
   "execution_count": 8,
   "outputs": [
    {
     "data": {
      "text/plain": "True"
     },
     "execution_count": 8,
     "metadata": {},
     "output_type": "execute_result"
    }
   ],
   "source": [
    "bottom_frame(5)"
   ],
   "metadata": {
    "collapsed": false
   }
  },
  {
   "cell_type": "code",
   "execution_count": 9,
   "outputs": [
    {
     "data": {
      "text/plain": "array([[ True,  True,  True,  True,  True,  True,  True,  True,  True,\n         True,  True,  True,  True,  True,  True],\n       [ True,  True,  True,  True,  True,  True,  True,  True,  True,\n         True,  True,  True,  True,  True,  True],\n       [ True,  True,  True,  True,  True,  True,  True,  True,  True,\n         True,  True,  True,  True,  True,  True],\n       [ True,  True,  True,  True,  True,  True,  True,  True,  True,\n         True,  True,  True,  True,  True,  True],\n       [ True,  True,  True,  True,  True,  True,  True,  True,  True,\n         True,  True,  True,  True,  True,  True],\n       [ True,  True,  True,  True,  True,  True,  True,  True,  True,\n         True,  True,  True,  True,  True,  True],\n       [ True,  True,  True,  True,  True,  True,  True,  True,  True,\n         True,  True,  True,  True,  True,  True],\n       [ True,  True,  True,  True,  True,  True,  True,  True,  True,\n         True,  True,  True,  True,  True,  True],\n       [ True,  True,  True,  True,  True,  True,  True,  True,  True,\n         True,  True,  True,  True,  True,  True],\n       [ True,  True,  True,  True,  True,  True,  True,  True,  True,\n         True,  True,  True,  True,  True,  True],\n       [ True,  True,  True,  True,  True,  True,  True,  True,  True,\n         True,  True,  True,  True,  True,  True],\n       [ True,  True,  True,  True,  True,  True,  True,  True,  True,\n         True,  True,  True,  True,  True,  True],\n       [ True,  True,  True,  True,  True,  True,  True,  True,  True,\n         True,  True,  True,  True,  True,  True],\n       [ True,  True,  True,  True,  True,  True,  True,  True,  True,\n         True,  True,  True,  True,  True,  True],\n       [ True,  True,  True,  True,  True,  True,  True,  True,  True,\n         True,  True,  True,  True,  True,  True]])"
     },
     "execution_count": 9,
     "metadata": {},
     "output_type": "execute_result"
    }
   ],
   "source": [
    "np.equal(M.matrix, matrix_func)"
   ],
   "metadata": {
    "collapsed": false
   }
  },
  {
   "cell_type": "code",
   "execution_count": 20,
   "outputs": [],
   "source": [
    "a = rnd.sample([(x, y) for x in range(M.matrix.shape[0]) for y in range(M.matrix.shape[1])], k=M.matrix.shape[1]*M.matrix.shape[0])"
   ],
   "metadata": {
    "collapsed": false
   }
  },
  {
   "cell_type": "code",
   "execution_count": 32,
   "outputs": [
    {
     "data": {
      "text/plain": "array([[ 1,  3],\n       [12,  1],\n       [10, 11],\n       [ 1,  0],\n       [ 3, 13],\n       [ 1,  2],\n       [ 0,  8],\n       [ 5,  9],\n       [14, 14],\n       [ 8, 11],\n       [ 4,  0],\n       [ 4, 11],\n       [11,  6],\n       [ 8,  4],\n       [ 3,  9],\n       [ 9,  3],\n       [ 2,  3],\n       [12,  5],\n       [ 9, 11],\n       [ 9, 12],\n       [ 8,  1],\n       [ 4,  2],\n       [13,  5],\n       [13,  9],\n       [ 6, 14],\n       [ 3,  3],\n       [ 1,  9],\n       [13,  3],\n       [11,  3],\n       [ 7,  5],\n       [ 6,  0],\n       [ 7,  3],\n       [ 7,  0],\n       [ 7, 14],\n       [12,  6],\n       [ 0, 13],\n       [11,  7],\n       [11,  2],\n       [11,  0],\n       [ 1, 10],\n       [14, 11],\n       [ 6, 13],\n       [ 5, 11],\n       [ 1, 12],\n       [ 4,  3],\n       [ 3,  4],\n       [13,  4],\n       [ 9,  2],\n       [ 7,  9],\n       [ 2,  5],\n       [12, 13],\n       [ 3,  1],\n       [14,  3],\n       [ 7, 13],\n       [12,  0],\n       [ 1,  4],\n       [ 7,  8],\n       [ 9,  5],\n       [13, 12],\n       [ 0, 12],\n       [13, 14],\n       [ 0,  3],\n       [ 1,  8],\n       [14,  4],\n       [ 2, 12],\n       [13,  7],\n       [14,  1],\n       [ 8,  3],\n       [14,  0],\n       [ 6, 12],\n       [12,  4],\n       [10, 10],\n       [ 6,  7],\n       [ 0,  0],\n       [ 6,  9],\n       [ 4,  7],\n       [ 7, 11],\n       [ 4, 13],\n       [11,  9],\n       [ 9,  7],\n       [10,  8],\n       [ 2,  9],\n       [11, 13],\n       [ 5,  0],\n       [ 3, 10],\n       [ 0, 14],\n       [10, 14],\n       [10,  4],\n       [ 5,  5],\n       [ 9,  4],\n       [12, 10],\n       [ 8,  2],\n       [ 8,  8],\n       [ 2, 10],\n       [ 9,  0],\n       [ 1,  5],\n       [ 3,  2],\n       [14,  9],\n       [ 5,  1],\n       [14,  8],\n       [12,  2],\n       [13,  0],\n       [ 2,  0],\n       [ 3,  6],\n       [11, 12],\n       [13,  1],\n       [ 4, 12],\n       [ 2,  1],\n       [ 4, 14],\n       [ 8,  6],\n       [ 0,  5],\n       [ 5,  4],\n       [ 0, 10],\n       [ 3,  8],\n       [14,  7],\n       [ 9, 13],\n       [14,  2],\n       [ 4,  6],\n       [14,  5],\n       [13, 13],\n       [ 1, 11],\n       [ 5, 10],\n       [ 6,  1],\n       [ 7,  1],\n       [ 8, 13],\n       [12, 12],\n       [ 3,  5],\n       [ 1,  1],\n       [12,  3],\n       [ 5,  7],\n       [ 2,  8],\n       [14, 10],\n       [ 6, 11],\n       [ 0,  9],\n       [ 0,  1],\n       [ 6,  3],\n       [12, 11],\n       [13, 11],\n       [ 8, 14],\n       [10,  5],\n       [ 4,  8],\n       [14, 13],\n       [ 4,  4],\n       [10,  0],\n       [10,  2],\n       [ 2, 14],\n       [ 8,  5],\n       [ 7, 12],\n       [ 8, 12],\n       [ 2,  6],\n       [ 8,  9],\n       [ 3, 11],\n       [ 4,  9],\n       [ 6,  4],\n       [ 9, 14],\n       [12, 14],\n       [12,  8],\n       [12,  9],\n       [ 8,  7],\n       [ 5,  6],\n       [ 8, 10],\n       [ 4, 10],\n       [ 7, 10],\n       [11, 10],\n       [ 6,  6],\n       [ 7,  2],\n       [14,  6],\n       [10,  7],\n       [11,  5],\n       [ 3,  0],\n       [ 1,  6],\n       [13, 10],\n       [ 2, 13],\n       [ 6,  2],\n       [ 9,  1],\n       [ 2,  2],\n       [ 5,  2],\n       [ 6,  8],\n       [10, 13],\n       [11, 11],\n       [13,  6],\n       [ 5,  8],\n       [ 3, 14],\n       [ 0,  2],\n       [10,  1],\n       [10,  6],\n       [ 5,  3],\n       [13,  8],\n       [ 7,  7],\n       [ 1, 13],\n       [ 3,  7],\n       [ 5, 13],\n       [ 0,  7],\n       [ 0,  4],\n       [ 6, 10],\n       [ 4,  1],\n       [ 1,  7],\n       [ 9, 10],\n       [10,  3],\n       [ 5, 12],\n       [ 0, 11],\n       [ 5, 14],\n       [10,  9],\n       [ 2,  4],\n       [ 7,  6],\n       [ 9,  8],\n       [11,  1],\n       [14, 12],\n       [13,  2],\n       [10, 12],\n       [ 6,  5],\n       [12,  7],\n       [11,  8],\n       [ 9,  6],\n       [ 9,  9],\n       [ 8,  0],\n       [ 7,  4],\n       [ 0,  6],\n       [11,  4],\n       [ 3, 12],\n       [ 1, 14],\n       [11, 14],\n       [ 4,  5],\n       [ 2, 11],\n       [ 2,  7]])"
     },
     "execution_count": 32,
     "metadata": {},
     "output_type": "execute_result"
    }
   ],
   "source": [
    "np.unique(a, axis=1)"
   ],
   "metadata": {
    "collapsed": false
   }
  },
  {
   "cell_type": "code",
   "execution_count": 37,
   "outputs": [
    {
     "data": {
      "text/plain": "True"
     },
     "execution_count": 37,
     "metadata": {},
     "output_type": "execute_result"
    }
   ],
   "source": [
    "M.left_frame_coords(0, 0)"
   ],
   "metadata": {
    "collapsed": false
   }
  },
  {
   "cell_type": "code",
   "execution_count": 38,
   "outputs": [
    {
     "data": {
      "text/plain": "array([[13,  1,  5,  3,  9,  5,  1,  7,  9,  5,  7, 13,  5,  3, 11],\n       [ 9,  6,  9,  4,  0,  7, 12,  3,  8,  5,  7, 11, 11,  8,  6],\n       [12,  3, 14,  9,  6,  9,  5,  4,  4,  7, 13,  4,  4,  0,  3],\n       [ 9,  4,  7, 14, 13,  0,  5,  5,  1,  7,  9,  3, 13,  6, 10],\n       [12,  5,  1,  7, 13,  4,  7,  9,  4,  3, 10, 12,  5,  5,  2],\n       [ 9,  7, 14, 13,  5,  3,  9,  2, 13,  4,  6,  9,  5,  5,  6],\n       [12,  5,  3, 29,  3, 10, 14, 14, 11,  9,  5,  6, 13,  1,  3],\n       [ 9,  5,  0,  5,  0,  4,  1,  5,  4,  6, 11,  9,  5,  6, 10],\n       [14, 13,  6, 11,  8,  7, 10, 11, 13,  1,  4,  4,  7,  9,  2],\n       [13,  5,  1,  2, 12,  7,  8,  2, 13,  2,  9,  3, 11, 14, 10],\n       [11,  9,  6,  8,  7,  9,  6, 12,  7, 12,  2, 14, 12,  5,  6],\n       [ 8,  4,  3, 14, 13,  2, 13,  3, 13,  1,  6, 13,  1,  5,  3],\n       [10, 11, 12,  5,  5,  0,  1,  4,  3,  8,  3, 13,  4,  3, 10],\n       [ 8,  4,  5,  3,  9,  2, 12,  3, 14, 14, 12,  5,  5,  6, 10],\n       [12,  7, 13,  6, 14, 12,  7, 12,  5,  5,  5,  5,  5,  5,  6]])"
     },
     "execution_count": 38,
     "metadata": {},
     "output_type": "execute_result"
    }
   ],
   "source": [
    "M.matrix"
   ],
   "metadata": {
    "collapsed": false
   }
  },
  {
   "cell_type": "code",
   "execution_count": 42,
   "outputs": [
    {
     "data": {
      "text/plain": "6"
     },
     "execution_count": 42,
     "metadata": {},
     "output_type": "execute_result"
    }
   ],
   "source": [
    "np.argmax(M.matrix)//15"
   ],
   "metadata": {
    "collapsed": false
   }
  },
  {
   "cell_type": "code",
   "execution_count": 48,
   "outputs": [
    {
     "data": {
      "text/plain": "(3, 6)"
     },
     "execution_count": 48,
     "metadata": {},
     "output_type": "execute_result"
    }
   ],
   "source": [
    "np.unravel_index(np.argmax(M.matrix, axis=None), M.matrix.shape)[::-1]"
   ],
   "metadata": {
    "collapsed": false
   }
  },
  {
   "cell_type": "code",
   "execution_count": 50,
   "outputs": [
    {
     "data": {
      "text/plain": "29"
     },
     "execution_count": 50,
     "metadata": {},
     "output_type": "execute_result"
    }
   ],
   "source": [
    "M.matrix[6][3]"
   ],
   "metadata": {
    "collapsed": false
   }
  }
 ],
 "metadata": {
  "kernelspec": {
   "display_name": "Python 3",
   "language": "python",
   "name": "python3"
  },
  "language_info": {
   "codemirror_mode": {
    "name": "ipython",
    "version": 2
   },
   "file_extension": ".py",
   "mimetype": "text/x-python",
   "name": "python",
   "nbconvert_exporter": "python",
   "pygments_lexer": "ipython2",
   "version": "2.7.6"
  }
 },
 "nbformat": 4,
 "nbformat_minor": 0
}
